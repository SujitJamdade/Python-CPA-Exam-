{
 "cells": [
  {
   "cell_type": "code",
   "execution_count": 1,
   "metadata": {},
   "outputs": [],
   "source": [
    "import re"
   ]
  },
  {
   "cell_type": "code",
   "execution_count": 14,
   "metadata": {},
   "outputs": [],
   "source": [
    "txt = \"Mitesh Jagdish Kalikar\"\n",
    "\n",
    "x = re.search(\"^Mitesh.*Kalikar$\", txt)"
   ]
  },
  {
   "cell_type": "code",
   "execution_count": 15,
   "metadata": {},
   "outputs": [
    {
     "name": "stdout",
     "output_type": "stream",
     "text": [
      "<re.Match object; span=(0, 22), match='Mitesh Jagdish Kalikar'>\n"
     ]
    }
   ],
   "source": [
    "print(x)"
   ]
  },
  {
   "cell_type": "code",
   "execution_count": 16,
   "metadata": {},
   "outputs": [
    {
     "name": "stdout",
     "output_type": "stream",
     "text": [
      "YES! We have a match!\n"
     ]
    }
   ],
   "source": [
    "if x:\n",
    "    print(\"YES! We have a match!\")\n",
    "else:\n",
    "    print(\"No match\")\n"
   ]
  },
  {
   "cell_type": "code",
   "execution_count": 19,
   "metadata": {},
   "outputs": [],
   "source": [
    "# findall\n",
    "# []\tA set of characters\n",
    "\n",
    "name = \"Mitesh Jagdish Kalikar, from nanded , Ok\"\n",
    "\n",
    "x = re.findall(\"[a,e,i,o,u,A,I,E,O,U]\",name)"
   ]
  },
  {
   "cell_type": "code",
   "execution_count": 20,
   "metadata": {},
   "outputs": [
    {
     "data": {
      "text/plain": [
       "['i', 'e', 'a', 'i', 'a', 'i', 'a', ',', 'o', 'a', 'e', ',', 'O']"
      ]
     },
     "execution_count": 20,
     "metadata": {},
     "output_type": "execute_result"
    }
   ],
   "source": [
    "x"
   ]
  },
  {
   "cell_type": "code",
   "execution_count": 21,
   "metadata": {},
   "outputs": [
    {
     "data": {
      "text/plain": [
       "13"
      ]
     },
     "execution_count": 21,
     "metadata": {},
     "output_type": "execute_result"
    }
   ],
   "source": [
    "# Vowel count\n",
    "len(x)"
   ]
  },
  {
   "cell_type": "code",
   "execution_count": 28,
   "metadata": {},
   "outputs": [
    {
     "data": {
      "text/plain": [
       "['i',\n",
       " 'e',\n",
       " 'h',\n",
       " 'a',\n",
       " 'g',\n",
       " 'd',\n",
       " 'i',\n",
       " 'h',\n",
       " 'a',\n",
       " 'l',\n",
       " 'i',\n",
       " 'k',\n",
       " 'a',\n",
       " 'f',\n",
       " 'm',\n",
       " 'a',\n",
       " 'd',\n",
       " 'e',\n",
       " 'd',\n",
       " 'k']"
      ]
     },
     "execution_count": 28,
     "metadata": {},
     "output_type": "execute_result"
    }
   ],
   "source": [
    "name = \"Mitesh Jagdish Kalikar, from nanded , Ok\"\n",
    "\n",
    "x = re.findall(\"[a-m]\",name)\n",
    "x"
   ]
  },
  {
   "cell_type": "code",
   "execution_count": 29,
   "metadata": {},
   "outputs": [],
   "source": [
    "# \\ Signals a special sequence (can also be used to escape special characters)\n",
    "# \\d\n",
    "find_digit = \"Mitesh kalikar house no 72\"\n",
    "\n",
    "x = re.findall(\"\\d\",find_digit)"
   ]
  },
  {
   "cell_type": "code",
   "execution_count": 30,
   "metadata": {},
   "outputs": [
    {
     "data": {
      "text/plain": [
       "['7', '2']"
      ]
     },
     "execution_count": 30,
     "metadata": {},
     "output_type": "execute_result"
    }
   ],
   "source": [
    "x"
   ]
  },
  {
   "cell_type": "code",
   "execution_count": 31,
   "metadata": {},
   "outputs": [
    {
     "name": "stdout",
     "output_type": "stream",
     "text": [
      "Digit is available ['7', '2']\n"
     ]
    }
   ],
   "source": [
    "is_digit = \"Mitesh kalikar house no 72\"\n",
    "\n",
    "x = re.findall(\"\\d\",is_digit)\n",
    "\n",
    "if x:\n",
    "    print(\"Digit is available\",x)\n",
    "else:\n",
    "    print(\"Digit is not available\")\n",
    "    "
   ]
  },
  {
   "cell_type": "code",
   "execution_count": 34,
   "metadata": {},
   "outputs": [
    {
     "name": "stdout",
     "output_type": "stream",
     "text": [
      "Digit is not available\n"
     ]
    }
   ],
   "source": [
    "is_digit = \"Mitesh kalikar house no ten\"\n",
    "\n",
    "x = re.findall(\"\\d\",is_digit)\n",
    "\n",
    "if x:\n",
    "    print(\"Digit is available\",x)\n",
    "else:\n",
    "    print(\"Digit is not available\")"
   ]
  },
  {
   "cell_type": "code",
   "execution_count": 42,
   "metadata": {},
   "outputs": [
    {
     "data": {
      "text/plain": [
       "3"
      ]
     },
     "execution_count": 42,
     "metadata": {},
     "output_type": "execute_result"
    }
   ],
   "source": [
    "# find occurance of 'ada' in given string\n",
    "txt = 'kwenfwjkfnksjdnfaejradajrfngfjdknvadaksnvjksndada'\n",
    "\n",
    "x = re.findall(\"ada\",txt)\n",
    "\n",
    "len(x)"
   ]
  },
  {
   "cell_type": "code",
   "execution_count": 56,
   "metadata": {},
   "outputs": [
    {
     "data": {
      "text/plain": [
       "['Mitesh']"
      ]
     },
     "execution_count": 56,
     "metadata": {},
     "output_type": "execute_result"
    }
   ],
   "source": [
    "#  .\tAny character (except newline character)\n",
    "\n",
    "txt = 'Mitesh jagdish kalikar'\n",
    "x = re.findall(\"Mi..sh\",txt)\n",
    "x"
   ]
  },
  {
   "cell_type": "code",
   "execution_count": 57,
   "metadata": {},
   "outputs": [
    {
     "data": {
      "text/plain": [
       "['Mitesh jagdish kalikar']"
      ]
     },
     "execution_count": 57,
     "metadata": {},
     "output_type": "execute_result"
    }
   ],
   "source": [
    "txt = 'Mitesh jagdish kalikar'\n",
    "x = re.findall(\"Mi..sh.*kali..r\",txt)\n",
    "x"
   ]
  },
  {
   "cell_type": "code",
   "execution_count": 61,
   "metadata": {},
   "outputs": [
    {
     "name": "stdout",
     "output_type": "stream",
     "text": [
      "['ai', 'aix', 'aixx', 'ai']\n",
      "Yes, there is at least one match!\n"
     ]
    }
   ],
   "source": [
    "# *\tZero or more occurrences\n",
    "\n",
    "txt = \"The rain in Spaixn falls maixxnly in the plain!\"\n",
    "\n",
    "#Check if the string contains \"ai\" followed by 0 or more \"x\" characters:\n",
    "\n",
    "x = re.findall(\"aix*\", txt)\n",
    "\n",
    "print(x)\n",
    "\n",
    "if x:\n",
    "    print(\"Yes, there is at least one match!\")\n",
    "else:\n",
    "    print(\"No match\")"
   ]
  },
  {
   "cell_type": "code",
   "execution_count": 63,
   "metadata": {},
   "outputs": [
    {
     "name": "stdout",
     "output_type": "stream",
     "text": [
      "['Mit']\n",
      "[]\n"
     ]
    }
   ],
   "source": [
    "# +\tOne or more occurrences\n",
    "\n",
    "name = \"Mitesh Kalikar Sujit Jamdade Jivan Ahire Mi\"\n",
    "\n",
    "x = re.findall(\"Mit+\",name)\n",
    "print(x)\n",
    "\n",
    "\n",
    "name = \"Miesh Kalikar Sujit Jamdade Jivan Ahire Mi\"\n",
    "\n",
    "x = re.findall(\"Mit+\",name)\n",
    "print(x)"
   ]
  },
  {
   "cell_type": "code",
   "execution_count": 66,
   "metadata": {},
   "outputs": [
    {
     "data": {
      "text/plain": [
       "['abb', 'abb']"
      ]
     },
     "execution_count": 66,
     "metadata": {},
     "output_type": "execute_result"
    }
   ],
   "source": [
    "# {}\tExactly the specified number of occurrences  \"ab{2}\"\n",
    "#abb\n",
    "txt = \"jvnfdjvndfaabbjcndjscabbshcujdaba\"\n",
    "x = re.findall(\"ab{2}\",txt)\n",
    "x"
   ]
  },
  {
   "cell_type": "code",
   "execution_count": 70,
   "metadata": {},
   "outputs": [
    {
     "name": "stdout",
     "output_type": "stream",
     "text": [
      "['Sujit', 'Mitesh']\n",
      "['Mitesh']\n",
      "[]\n"
     ]
    }
   ],
   "source": [
    "# |\tEither or \"Sujit|Mitesh\"\n",
    "\n",
    "names = \" Sujit Jivan Mitesh\"\n",
    "x = re.findall(\"Sujit|Mitesh\",names)\n",
    "print(x)\n",
    "\n",
    "names = \" Chetan Jivan Mitesh\"\n",
    "x = re.findall(\"Sujit|Mitesh\",names)\n",
    "print(x)\n",
    "\n",
    "names = \" Chetan Jivan Kalikar\"\n",
    "x = re.findall(\"Sujit|Mitesh\",names)\n",
    "print(x)"
   ]
  },
  {
   "cell_type": "code",
   "execution_count": 80,
   "metadata": {},
   "outputs": [
    {
     "name": "stdout",
     "output_type": "stream",
     "text": [
      "['The']\n"
     ]
    }
   ],
   "source": [
    "#\\A start with\n",
    "\n",
    "txt = \"The rain in Spain\"\n",
    "\n",
    "#Check if the string starts with \"The\":\n",
    "\n",
    "x = re.findall(\"\\AThe\", txt)\n",
    "\n",
    "print(x)\n"
   ]
  },
  {
   "cell_type": "code",
   "execution_count": 78,
   "metadata": {},
   "outputs": [
    {
     "name": "stdout",
     "output_type": "stream",
     "text": [
      "['Spain']\n"
     ]
    }
   ],
   "source": [
    "# \\Z end with\n",
    "txt = \"The rain in Spain\"\n",
    "\n",
    "#Check if the string ends with \"Spain\":\n",
    "\n",
    "x = re.findall(\"Spain\\Z\", txt)\n",
    "\n",
    "print(x)"
   ]
  },
  {
   "cell_type": "code",
   "execution_count": 79,
   "metadata": {},
   "outputs": [
    {
     "data": {
      "text/plain": [
       "['Mitesh Jagdish Kalikar']"
      ]
     },
     "execution_count": 79,
     "metadata": {},
     "output_type": "execute_result"
    }
   ],
   "source": [
    "# combination with start with and end with \n",
    "txt = \"Mitesh Jagdish Kalikar\"\n",
    "\n",
    "x = re.findall(\"\\AMitesh.*Kalikar\\Z\", txt)\n",
    "x"
   ]
  },
  {
   "cell_type": "code",
   "execution_count": 87,
   "metadata": {},
   "outputs": [
    {
     "name": "stdout",
     "output_type": "stream",
     "text": [
      "['ain', 'ain', 'ain']\n",
      "Yes, there is at least one match!\n"
     ]
    }
   ],
   "source": [
    "#  /b start\n",
    "\n",
    "txt = \"ain The rain ain  ainq in Spain\"\n",
    "\n",
    "#Check if \"ain\" is present at the beginning of a WORD:\n",
    "\n",
    "x = re.findall(r\"\\bain\", txt)\n",
    "\n",
    "print(x)\n",
    "\n",
    "if x:\n",
    "    print(\"Yes, there is at least one match!\")\n",
    "else:\n",
    "    print(\"No match\")\n"
   ]
  },
  {
   "cell_type": "code",
   "execution_count": 82,
   "metadata": {},
   "outputs": [
    {
     "name": "stdout",
     "output_type": "stream",
     "text": [
      "['ain', 'ain']\n",
      "Yes, there is at least one match!\n"
     ]
    }
   ],
   "source": [
    "# end word /b\n",
    "\n",
    "txt = \"The rain in Spain\"\n",
    "\n",
    "#Check if \"ain\" is present at the end of a WORD:\n",
    "\n",
    "x = re.findall(r\"ain\\b\", txt)\n",
    "\n",
    "print(x)\n",
    "\n",
    "if x:\n",
    "    print(\"Yes, there is at least one match!\")\n",
    "else:\n",
    "    print(\"No match\")\n"
   ]
  },
  {
   "cell_type": "code",
   "execution_count": null,
   "metadata": {},
   "outputs": [],
   "source": []
  }
 ],
 "metadata": {
  "kernelspec": {
   "display_name": "Python 3",
   "language": "python",
   "name": "python3"
  },
  "language_info": {
   "codemirror_mode": {
    "name": "ipython",
    "version": 3
   },
   "file_extension": ".py",
   "mimetype": "text/x-python",
   "name": "python",
   "nbconvert_exporter": "python",
   "pygments_lexer": "ipython3",
   "version": "3.7.3"
  }
 },
 "nbformat": 4,
 "nbformat_minor": 2
}
