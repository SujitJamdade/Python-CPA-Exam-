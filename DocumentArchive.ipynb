{
 "cells": [
  {
   "cell_type": "code",
   "execution_count": 58,
   "metadata": {},
   "outputs": [
    {
     "name": "stdout",
     "output_type": "stream",
     "text": [
      "4\n",
      "101\n",
      "Sales.pptx\n",
      "10/02/2020, Rajesh, 5MB\n",
      "102\n",
      "Report.pptx\n",
      "Rohit, 2MB, 12/12/2019\n",
      "103\n",
      "Design Document.docx\n",
      "4038KB, 01/01/2020, Vijay\n",
      "104\n",
      "Test_Approach.docx\n",
      "385KB, Sujay, 28/03/2020\n",
      "docx\n",
      "101 10/02/2020\n",
      "102  12/12/2019\n",
      "103  01/01/2020\n",
      "104  28/03/2020\n",
      "Document Count =  2\n"
     ]
    }
   ],
   "source": [
    "class Document:\n",
    "    \n",
    "    def __init__(self,docId,docName,docDetails):\n",
    "        self.docId = docId\n",
    "        self.docName = docName\n",
    "        self.docDetails = docDetails\n",
    "        \n",
    "class DocumentArchive:\n",
    "    \n",
    "    def __init__(self,archiveId, documentList):\n",
    "        self.archiveId = archiveId\n",
    "        self.documentList = documentList\n",
    "   \n",
    "    def findDateFromDocumentDetails(self):\n",
    "        list2=[]\n",
    "        for i in self.documentList:\n",
    "            n=i.docDetails.split(\",\")\n",
    "            n=tuple(n)\n",
    "            for m in range(len(n)):\n",
    "                list2.append(m)\n",
    "            for j in n:\n",
    "                if \"/\" in j:\n",
    "                    \n",
    "                    print(i.docId, j)\n",
    "    \n",
    "    def countDocumentOfGivenType(self,str1):\n",
    "        count=0\n",
    "        for i in self.documentList:\n",
    "            a=i.docName.split(\".\")[1]\n",
    "            if a==str1:\n",
    "                count=count+1\n",
    "        return count\n",
    "    \n",
    "    \n",
    "if __name__ == \"__main__\":\n",
    "    \n",
    "    N = int(input())\n",
    "    documentList = []\n",
    "    for i in range(N):\n",
    "        id = int(input())\n",
    "        name = input()\n",
    "        details = input()\n",
    "        documentList.append(Document(id,name,details))\n",
    "    str1 = input()  \n",
    "    obj1 = DocumentArchive(id, documentList)\n",
    "    obj1.findDateFromDocumentDetails()\n",
    "    print(\"Document Count = \",obj1.countDocumentOfGivenType(str1))\n",
    "   "
   ]
  }
 ],
 "metadata": {
  "kernelspec": {
   "display_name": "Python 3",
   "language": "python",
   "name": "python3"
  },
  "language_info": {
   "codemirror_mode": {
    "name": "ipython",
    "version": 3
   },
   "file_extension": ".py",
   "mimetype": "text/x-python",
   "name": "python",
   "nbconvert_exporter": "python",
   "pygments_lexer": "ipython3",
   "version": "3.7.3"
  }
 },
 "nbformat": 4,
 "nbformat_minor": 2
}
