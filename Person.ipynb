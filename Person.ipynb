{
 "cells": [
  {
   "cell_type": "code",
   "execution_count": 9,
   "metadata": {},
   "outputs": [
    {
     "name": "stdout",
     "output_type": "stream",
     "text": [
      "5\n",
      "Rajesh\n",
      "5\n",
      "50\n",
      "Suman\n",
      "4\n",
      "89\n",
      "gopi\n",
      "5\n",
      "9\n",
      "Radhika\n",
      "6\n",
      "120\n",
      "Rajesh\n",
      "5\n",
      "120\n",
      "The Average height is  5.0\n",
      "Persons taller than the Average height\n",
      "Radhika\n"
     ]
    }
   ],
   "source": [
    "class Person:\n",
    "    \n",
    "    def __init__(self,name,height,weight):\n",
    "        \n",
    "        self.n = name\n",
    "        self.h = height\n",
    "        self.w = weight\n",
    "        \n",
    "class Society:\n",
    "    \n",
    "    def __init__(self,personList):\n",
    "        self.pL = personList\n",
    "        \n",
    "    def findAverageHeight(self):\n",
    "        sum_height = 0\n",
    "        for i in self.pL:\n",
    "            sum_height += i.h\n",
    "            \n",
    "            avg = sum_height/N\n",
    "            \n",
    "        return avg\n",
    "    \n",
    "    def findTallerThanAveragePerson(self):\n",
    "        \n",
    "        average = Society.findAverageHeight(self)\n",
    "        \n",
    "        for i in self.pL:\n",
    "            \n",
    "            if(average<i.h):\n",
    "                print(\"Persons taller than the Average height\")\n",
    "                return i.n\n",
    "            \n",
    "if __name__ == \"__main__\":\n",
    "    \n",
    "    N = int(input())\n",
    "    personList = []\n",
    "    for i in range(N):\n",
    "        name = input()\n",
    "        height = int(input())\n",
    "        weight = int(input())\n",
    "        personList.append(Person(name,height,weight))\n",
    "        \n",
    "    obj1 = Society(personList)\n",
    "    \n",
    "    print(\"The Average height is \",obj1.findAverageHeight())\n",
    "    print(obj1.findTallerThanAveragePerson())"
   ]
  },
  {
   "cell_type": "code",
   "execution_count": null,
   "metadata": {},
   "outputs": [],
   "source": []
  }
 ],
 "metadata": {
  "kernelspec": {
   "display_name": "Python 3",
   "language": "python",
   "name": "python3"
  },
  "language_info": {
   "codemirror_mode": {
    "name": "ipython",
    "version": 3
   },
   "file_extension": ".py",
   "mimetype": "text/x-python",
   "name": "python",
   "nbconvert_exporter": "python",
   "pygments_lexer": "ipython3",
   "version": "3.7.3"
  }
 },
 "nbformat": 4,
 "nbformat_minor": 2
}
